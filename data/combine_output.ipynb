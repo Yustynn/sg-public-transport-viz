{
 "cells": [
  {
   "cell_type": "code",
   "execution_count": 146,
   "metadata": {},
   "outputs": [],
   "source": [
    "from datetime import datetime\n",
    "from os import listdir\n",
    "import pandas as pd"
   ]
  },
  {
   "cell_type": "code",
   "execution_count": 143,
   "metadata": {},
   "outputs": [],
   "source": [
    "def has_err(data, expected_num_stops=25):\n",
    "    return expected_num_stops != data.stop_num.nunique()\n",
    "    "
   ]
  },
  {
   "cell_type": "code",
   "execution_count": 182,
   "metadata": {},
   "outputs": [
    {
     "name": "stdout",
     "output_type": "stream",
     "text": [
      "0.2691029900332226\n"
     ]
    }
   ],
   "source": [
    "df = pd.DataFrame(columns=['stop_num', 'service_num', 'est_arrival', 'latitude', 'longitude', 'timestamp'])\n",
    "\n",
    "for filename in listdir('output'):\n",
    "    if filename == '.DS_Store': continue\n",
    "    data = pd.read_csv( 'output/{}'.format(filename) ) \n",
    "    \n",
    "    timestamp = '16/4/18 ' + filename.split('-')[1][:-4]\n",
    "    timestamp = datetime.strptime(timestamp, '%d/%m/%y %I:%M:%S %p')\n",
    "    \n",
    "    data['timestamp'] = timestamp\n",
    "    \n",
    "    df = df.append(data)\n",
    "    if has_err(data): count += 1\n",
    "\n",
    "print( count / len(listdir('output')))"
   ]
  },
  {
   "cell_type": "markdown",
   "metadata": {},
   "source": [
    "df.to_csv('compiled_output.csv')"
   ]
  }
 ],
 "metadata": {
  "kernelspec": {
   "display_name": "Python 3",
   "language": "python",
   "name": "python3"
  },
  "language_info": {
   "codemirror_mode": {
    "name": "ipython",
    "version": 3
   },
   "file_extension": ".py",
   "mimetype": "text/x-python",
   "name": "python",
   "nbconvert_exporter": "python",
   "pygments_lexer": "ipython3",
   "version": "3.6.4"
  }
 },
 "nbformat": 4,
 "nbformat_minor": 2
}
